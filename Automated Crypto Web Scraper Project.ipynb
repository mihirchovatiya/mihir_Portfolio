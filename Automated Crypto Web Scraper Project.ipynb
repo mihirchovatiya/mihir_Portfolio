{
 "cells": [
  {
   "cell_type": "code",
   "execution_count": 2,
   "id": "0f270f43",
   "metadata": {},
   "outputs": [],
   "source": [
    "from bs4 import BeautifulSoup\n",
    "import requests"
   ]
  },
  {
   "cell_type": "code",
   "execution_count": 3,
   "id": "8a9856c5",
   "metadata": {},
   "outputs": [],
   "source": [
    "url = 'https://coinmarketcap.com/currencies/bitcoin/'\n"
   ]
  },
  {
   "cell_type": "code",
   "execution_count": 4,
   "id": "19803bdb",
   "metadata": {},
   "outputs": [],
   "source": [
    "web_page = requests.get(url)"
   ]
  },
  {
   "cell_type": "code",
   "execution_count": 5,
   "id": "27d5366a",
   "metadata": {},
   "outputs": [],
   "source": [
    "soup = BeautifulSoup(web_page.text,'html')"
   ]
  },
  {
   "cell_type": "code",
   "execution_count": 6,
   "id": "e653f680",
   "metadata": {},
   "outputs": [
    {
     "data": {
      "text/plain": [
       "<span class=\"sc-65e7f566-0 lsTl\" data-role=\"coin-name\" title=\"Bitcoin\">Bitcoin<span class=\"sc-65e7f566-0 eQBACe coin-name-mobile\"> price</span></span>"
      ]
     },
     "execution_count": 6,
     "metadata": {},
     "output_type": "execute_result"
    }
   ],
   "source": [
    "soup.find('span', class_ = \"sc-65e7f566-0 lsTl\")\n",
    "\n",
    "## class from inspect the page "
   ]
  },
  {
   "cell_type": "code",
   "execution_count": 7,
   "id": "e907dd4b",
   "metadata": {},
   "outputs": [
    {
     "name": "stdout",
     "output_type": "stream",
     "text": [
      "Bitcoin price\n"
     ]
    }
   ],
   "source": [
    "Crypto_Name = soup.find('span', class_ = \"sc-65e7f566-0 lsTl\").text\n",
    "print(Crypto_Name)"
   ]
  },
  {
   "cell_type": "code",
   "execution_count": 8,
   "id": "370a5faf",
   "metadata": {},
   "outputs": [
    {
     "data": {
      "text/plain": [
       "<span class=\"sc-65e7f566-0 esyGGG base-text\" data-test=\"text-cdp-price-display\">$118,740.43</span>"
      ]
     },
     "execution_count": 8,
     "metadata": {},
     "output_type": "execute_result"
    }
   ],
   "source": [
    "soup.find('span', class_ = \"sc-65e7f566-0 esyGGG base-text\")"
   ]
  },
  {
   "cell_type": "code",
   "execution_count": 9,
   "id": "6ec9d0dc",
   "metadata": {},
   "outputs": [
    {
     "name": "stdout",
     "output_type": "stream",
     "text": [
      "$118,740.43\n"
     ]
    }
   ],
   "source": [
    "Crypto_Price = soup.find('span', class_ = \"sc-65e7f566-0 esyGGG base-text\").text\n",
    "print(Crypto_Price)"
   ]
  },
  {
   "cell_type": "code",
   "execution_count": 10,
   "id": "4fcb7fb1",
   "metadata": {},
   "outputs": [
    {
     "data": {
      "text/plain": [
       "'118,740.43'"
      ]
     },
     "execution_count": 10,
     "metadata": {},
     "output_type": "execute_result"
    }
   ],
   "source": [
    "Final_Price = Crypto_Price.replace('$','')\n",
    "Final_Price"
   ]
  },
  {
   "cell_type": "code",
   "execution_count": 11,
   "id": "7cfaba0a",
   "metadata": {},
   "outputs": [],
   "source": [
    "import pandas as pd"
   ]
  },
  {
   "cell_type": "code",
   "execution_count": 12,
   "id": "9ea89f95",
   "metadata": {},
   "outputs": [
    {
     "name": "stdout",
     "output_type": "stream",
     "text": [
      "2025-07-29 14:46:18.720166\n"
     ]
    }
   ],
   "source": [
    "from datetime import datetime\n",
    "\n",
    "Date_Time = datetime.now()\n",
    "print(Date_Time)"
   ]
  },
  {
   "cell_type": "code",
   "execution_count": 13,
   "id": "38188a89",
   "metadata": {},
   "outputs": [
    {
     "data": {
      "text/html": [
       "<div>\n",
       "<style scoped>\n",
       "    .dataframe tbody tr th:only-of-type {\n",
       "        vertical-align: middle;\n",
       "    }\n",
       "\n",
       "    .dataframe tbody tr th {\n",
       "        vertical-align: top;\n",
       "    }\n",
       "\n",
       "    .dataframe thead th {\n",
       "        text-align: right;\n",
       "    }\n",
       "</style>\n",
       "<table border=\"1\" class=\"dataframe\">\n",
       "  <thead>\n",
       "    <tr style=\"text-align: right;\">\n",
       "      <th></th>\n",
       "      <th>Crypto Name</th>\n",
       "      <th>Price</th>\n",
       "      <th>TimeStamp</th>\n",
       "    </tr>\n",
       "  </thead>\n",
       "  <tbody>\n",
       "    <tr>\n",
       "      <th>0</th>\n",
       "      <td>Bitcoin price</td>\n",
       "      <td>118,740.43</td>\n",
       "      <td>2025-07-29 14:46:18.742494</td>\n",
       "    </tr>\n",
       "  </tbody>\n",
       "</table>\n",
       "</div>"
      ],
      "text/plain": [
       "     Crypto Name       Price                  TimeStamp\n",
       "0  Bitcoin price  118,740.43 2025-07-29 14:46:18.742494"
      ]
     },
     "execution_count": 13,
     "metadata": {},
     "output_type": "execute_result"
    }
   ],
   "source": [
    "Date_Time = datetime.now()\n",
    "\n",
    "dict = {'Crypto Name':Crypto_Name,\n",
    "       'Price' :Final_Price,\n",
    "       'TimeStamp': Date_Time }\n",
    "\n",
    "df = pd.DataFrame(dict, index=[0])\n",
    "df\n",
    "\n",
    "## pd.DataFrame([Dict])"
   ]
  },
  {
   "cell_type": "code",
   "execution_count": 14,
   "id": "4b88dfba",
   "metadata": {},
   "outputs": [],
   "source": [
    "df.to_csv(r'C:\\python\\PROJECT PYTHON\\Crypto_webpuller.csv')"
   ]
  },
  {
   "cell_type": "code",
   "execution_count": 15,
   "id": "62d5506c",
   "metadata": {},
   "outputs": [],
   "source": [
    "import os"
   ]
  },
  {
   "cell_type": "code",
   "execution_count": 16,
   "id": "898b5707",
   "metadata": {},
   "outputs": [],
   "source": [
    "if os.path.exists(r'C:\\python\\PROJECT PYTHON\\Crypto_webpuller.csv'):\n",
    "    df.to_csv(r'C:\\python\\PROJECT PYTHON\\Crypto_webpuller.csv', mode='a', header=False,index=False)\n",
    "else:\n",
    "    df.to_csv(r'C:\\python\\PROJECT PYTHON\\Crypto_webpuller.csv')\n"
   ]
  },
  {
   "cell_type": "code",
   "execution_count": null,
   "id": "34649572",
   "metadata": {},
   "outputs": [],
   "source": []
  },
  {
   "cell_type": "code",
   "execution_count": null,
   "id": "96bbc4fa",
   "metadata": {},
   "outputs": [],
   "source": []
  },
  {
   "cell_type": "code",
   "execution_count": 17,
   "id": "88d646d0",
   "metadata": {},
   "outputs": [],
   "source": [
    "from bs4 import BeautifulSoup\n",
    "import requests\n",
    "import pandas as pd\n",
    "from datetime import datetime\n",
    "import os\n",
    "import time"
   ]
  },
  {
   "cell_type": "code",
   "execution_count": 18,
   "id": "4df4b936",
   "metadata": {},
   "outputs": [],
   "source": [
    "\n",
    "def automated_crypto_pull():\n",
    "    url = 'https://coinmarketcap.com/currencies/bitcoin/'\n",
    "\n",
    "    web_page = requests.get(url)\n",
    "\n",
    "    soup = BeautifulSoup(web_page.text,'html')\n",
    "\n",
    "    Crypto_Name = soup.find('span', class_ = \"sc-65e7f566-0 lsTl\").text\n",
    "\n",
    "    Crypto_Price = soup.find('span', class_ = \"sc-65e7f566-0 esyGGG base-text\").text\n",
    "\n",
    "    Final_Price = Crypto_Price.replace('$','')\n",
    "\n",
    "    Date_Time = datetime.now()\n",
    "\n",
    "    dict = {'Crypto Name':Crypto_Name,\n",
    "        'Price' :Final_Price,\n",
    "        'TimeStamp': Date_Time }\n",
    "\n",
    "    df = pd.DataFrame(dict, index=[0])\n",
    "\n",
    "    if os.path.exists(r'C:\\python\\PROJECT PYTHON\\Crypto_webpuller.csv'):\n",
    "        df.to_csv(r'C:\\python\\PROJECT PYTHON\\Crypto_webpuller.csv', mode='a', header=False,index=False)\n",
    "    else:\n",
    "        df.to_csv(r'C:\\python\\PROJECT PYTHON\\Crypto_webpuller.csv')\n",
    "    print(df)"
   ]
  },
  {
   "cell_type": "code",
   "execution_count": null,
   "id": "ab497557",
   "metadata": {},
   "outputs": [
    {
     "name": "stdout",
     "output_type": "stream",
     "text": [
      "     Crypto Name       Price                  TimeStamp\n",
      "0  Bitcoin price  118,740.43 2025-07-29 14:46:19.410840\n"
     ]
    }
   ],
   "source": [
    "while True:\n",
    "    automated_crypto_pull()\n",
    "    time.sleep(3600)\n"
   ]
  },
  {
   "cell_type": "code",
   "execution_count": null,
   "id": "f6021e93",
   "metadata": {},
   "outputs": [],
   "source": []
  },
  {
   "cell_type": "code",
   "execution_count": null,
   "id": "7e713d83",
   "metadata": {},
   "outputs": [],
   "source": []
  },
  {
   "cell_type": "code",
   "execution_count": null,
   "id": "4eb732d7",
   "metadata": {},
   "outputs": [],
   "source": []
  }
 ],
 "metadata": {
  "kernelspec": {
   "display_name": "Python 3",
   "language": "python",
   "name": "python3"
  },
  "language_info": {
   "codemirror_mode": {
    "name": "ipython",
    "version": 3
   },
   "file_extension": ".py",
   "mimetype": "text/x-python",
   "name": "python",
   "nbconvert_exporter": "python",
   "pygments_lexer": "ipython3",
   "version": "3.13.5"
  }
 },
 "nbformat": 4,
 "nbformat_minor": 5
}
