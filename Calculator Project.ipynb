{
 "cells": [
  {
   "cell_type": "markdown",
   "id": "5f13ca5a",
   "metadata": {},
   "source": [
    "calculator"
   ]
  },
  {
   "cell_type": "code",
   "execution_count": null,
   "id": "22d35cc7",
   "metadata": {},
   "outputs": [],
   "source": [
    "def add(x,y):\n",
    "    return x + y\n",
    "\n",
    "def subtract(x,y):\n",
    "    return x - y\n",
    "\n",
    "def multiply(x,y):\n",
    "    return x * y\n",
    "\n",
    "def divide(x,y):\n",
    "    return x/y\n"
   ]
  },
  {
   "cell_type": "code",
   "execution_count": null,
   "id": "261f3f00",
   "metadata": {},
   "outputs": [
    {
     "name": "stdout",
     "output_type": "stream",
     "text": [
      "Enter A for Addition.\n",
      "Enter S for Substract.\n",
      "Enter M for Multiply.\n",
      "Enter D for Divide.\n",
      "please input correct choice\n"
     ]
    }
   ],
   "source": [
    "print('Enter A for Addition.')\n",
    "print('Enter S for Substract.')\n",
    "print('Enter M for Multiply.')\n",
    "print('Enter D for Divide.')\n",
    "\n",
    "choice = input ('Enter Choice (A,S,M,D): ')\n",
    "\n",
    "if choice.upper() in ('A', 'ADDITION', 'ADD', 'S', 'SUBSTRACT','M', 'MULTIPLY', 'MULTIOLICATION', 'D','DIVISION', 'DIVIDE'):\n",
    "    num1 = float(input('Enter first number: '))\n",
    "    num2 = float(input('Enter second number: '))\n",
    "\n",
    "if choice.upper() in ('A', 'ADDITION', 'ADD'):\n",
    "    print('Result:',num1,'+', num2 ,'=', add(num1,num2))\n",
    "\n",
    "elif choice.upper() in ('S', 'SUBSTRACT'):\n",
    "    print('Result:',num1,'-', num2 ,'=', subtract(num1,num2))\n",
    "\n",
    "elif choice.upper() in ('M', 'MULTIPLY', 'MULTIOLICATION'):\n",
    "    print('Result:',num1,'*', num2 ,'=', multiply(num1,num2))\n",
    "\n",
    "elif choice.upper() in ('D','DIVISION', 'DIVIDE'):\n",
    "    print('Result:',num1,'/', num2 ,'=', divide(num1,num2))\n",
    "\n",
    "else:\n",
    "    print('please input correct choice')\n",
    "    "
   ]
  },
  {
   "cell_type": "code",
   "execution_count": 28,
   "id": "f329c567",
   "metadata": {},
   "outputs": [
    {
     "name": "stdout",
     "output_type": "stream",
     "text": [
      "Enter A for Addition.\n",
      "Enter S for Substract.\n",
      "Enter M for Multiply.\n",
      "Enter D for Divide.\n",
      "Result: 10.0 * 20.0 = 200.0\n",
      "Result: 10.0 / 2.0 = 5.0\n"
     ]
    }
   ],
   "source": [
    "print('Enter A for Addition.')\n",
    "print('Enter S for Substract.')\n",
    "print('Enter M for Multiply.')\n",
    "print('Enter D for Divide.')\n",
    "\n",
    "\n",
    "while True:\n",
    "    choice = input ('Enter Choice (A,S,M,D): ')\n",
    "    if choice.upper() in ('A', 'ADDITION', 'ADD', 'S', 'SUBSTRACT','M', 'MULTIPLY', 'MULTIOLICATION', 'D','DIVISION', 'DIVIDE'):\n",
    "        num1 = float(input('Enter first number: '))\n",
    "        num2 = float(input('Enter second number: '))\n",
    "\n",
    "    if choice.upper() in ('A', 'ADDITION', 'ADD'):\n",
    "        print('Result:',num1,'+', num2 ,'=', add(num1,num2))\n",
    "\n",
    "    elif choice.upper() in ('S', 'SUBSTRACT'):\n",
    "        print('Result:',num1,'-', num2 ,'=', subtract(num1,num2))\n",
    "\n",
    "    elif choice.upper() in ('M', 'MULTIPLY', 'MULTIOLICATION'):\n",
    "        print('Result:',num1,'*', num2 ,'=', multiply(num1,num2))\n",
    "\n",
    "    elif choice.upper() in ('D','DIVISION', 'DIVIDE'):\n",
    "        print('Result:',num1,'/', num2 ,'=', divide(num1,num2))\n",
    "\n",
    "    else:\n",
    "        print('please input correct choice')\n",
    "        \n",
    "    next_calculation = input('Want to do another calculation? (Yes/No): ')\n",
    "    if next_calculation.lower() in ('no','n','nope'):\n",
    "        break\n",
    "\n",
    "\n"
   ]
  },
  {
   "cell_type": "code",
   "execution_count": null,
   "id": "365b3601",
   "metadata": {},
   "outputs": [],
   "source": []
  },
  {
   "cell_type": "code",
   "execution_count": null,
   "id": "433d0d26",
   "metadata": {},
   "outputs": [],
   "source": []
  },
  {
   "cell_type": "code",
   "execution_count": null,
   "id": "6f8588d2",
   "metadata": {},
   "outputs": [],
   "source": []
  },
  {
   "cell_type": "code",
   "execution_count": null,
   "id": "7d2a3757",
   "metadata": {},
   "outputs": [],
   "source": []
  },
  {
   "cell_type": "code",
   "execution_count": null,
   "id": "187c0d02",
   "metadata": {},
   "outputs": [],
   "source": []
  }
 ],
 "metadata": {
  "kernelspec": {
   "display_name": "Python 3",
   "language": "python",
   "name": "python3"
  },
  "language_info": {
   "codemirror_mode": {
    "name": "ipython",
    "version": 3
   },
   "file_extension": ".py",
   "mimetype": "text/x-python",
   "name": "python",
   "nbconvert_exporter": "python",
   "pygments_lexer": "ipython3",
   "version": "3.13.5"
  }
 },
 "nbformat": 4,
 "nbformat_minor": 5
}
