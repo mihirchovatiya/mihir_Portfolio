{
 "cells": [
  {
   "cell_type": "markdown",
   "id": "0e1d5b11",
   "metadata": {},
   "source": [
    "UNIT OF MEASUREMENT CONVERTER"
   ]
  },
  {
   "cell_type": "code",
   "execution_count": 5,
   "id": "b6d93e68",
   "metadata": {},
   "outputs": [],
   "source": [
    "convert_from = input(\"Enter Starting Unit of Measurment(inches,feet,yards):\")\n",
    "\n",
    "convert_to = input(\"Enter Unit of Measurment to convert to (inches,feet,yards):\")\n",
    "\n",
    "number_of_inches = input(\"Enter Starting Measurment in inches:\")\n",
    "\n",
    "number_of_feet = input(\"Enter Starting Measurment in feet:\")\n",
    "\n",
    "number_of_yards = input(\"Enter Starting Measurment in yards:\")\n",
    "\n",
    "\n",
    "\n"
   ]
  },
  {
   "cell_type": "code",
   "execution_count": 13,
   "id": "db6c4849",
   "metadata": {},
   "outputs": [
    {
     "name": "stdout",
     "output_type": "stream",
     "text": [
      "result : 1 feet = 12 inches\n"
     ]
    }
   ],
   "source": [
    "convert_from = input(\"Enter Starting Unit of Measurment(inches,feet,yards):\")\n",
    "\n",
    "convert_to = input(\"Enter Unit of Measurment to convert to (inches,feet,yards):\")\n",
    "\n",
    "if convert_from.lower() in ['inches','in','inch']:\n",
    "    number_of_inches = int(input('entering starting measurment in inches:'))\n",
    "    if convert_to.lower() in ['feet', 'foot', 'ft']:\n",
    "        print('result : ' + str(number_of_inches) + ' inches = ' + str(round(number_of_inches/ 12, 2)) + ' feet')\n",
    "    elif convert_to.lower () in ['yards','yard','yds','yd']:\n",
    "        print('result:' + str(number_of_inches) + 'inches = ' + str(round(number_of_inches/ 36,2))+ 'yards')\n",
    "    else:\n",
    "        print('your input was incorrect')\n",
    "elif convert_from.lower() in ['feet','foot','ft']:\n",
    "    number_of_feet = int(input('entering starting measurment in feet:'))\n",
    "    if convert_to.lower() in ['inches', 'in', 'inch']:\n",
    "        print('result : ' + str(number_of_feet) + ' feet = ' + str(round(number_of_feet* 12)) + ' inches')\n",
    "    elif convert_to.lower () in ['yards','yard','yds','yd']:\n",
    "        print('result : ' + str(number_of_feet) + ' feet = ' + str(round(number_of_feet/ 3,2 ) ) + ' yards')\n",
    "    else:\n",
    "        print('your input was incorrect')\n",
    "elif convert_from.lower() in ['yards','yard','yds','yd']:\n",
    "    number_of_yards = int(input('entering starting measurment in yards:'))\n",
    "    if convert_to.lower() in ['inches', 'in', 'inch']:\n",
    "        print('result : ' + str(number_of_yards) + ' yards = ' + str(round(number_of_yards* 36 ) ) + ' inches')\n",
    "    elif convert_to.lower() in ['feet','foot','ft']:\n",
    "        print('result : ' + str(number_of_yards) + ' yards = ' + str(round(number_of_yards* 3 ) ) + ' feet')\n",
    "    else:\n",
    "        print('your input was incorrect')\n",
    "else:\n",
    "    print('Please Enter either inches, feet or yards')"
   ]
  },
  {
   "cell_type": "code",
   "execution_count": null,
   "id": "3fc942e3",
   "metadata": {},
   "outputs": [],
   "source": []
  },
  {
   "cell_type": "code",
   "execution_count": null,
   "id": "8f6f2be1",
   "metadata": {},
   "outputs": [],
   "source": []
  }
 ],
 "metadata": {
  "kernelspec": {
   "display_name": "Python 3",
   "language": "python",
   "name": "python3"
  },
  "language_info": {
   "codemirror_mode": {
    "name": "ipython",
    "version": 3
   },
   "file_extension": ".py",
   "mimetype": "text/x-python",
   "name": "python",
   "nbconvert_exporter": "python",
   "pygments_lexer": "ipython3",
   "version": "3.13.5"
  }
 },
 "nbformat": 4,
 "nbformat_minor": 5
}
