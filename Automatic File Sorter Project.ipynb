{
 "cells": [
  {
   "cell_type": "code",
   "execution_count": 26,
   "id": "0328f43e",
   "metadata": {},
   "outputs": [],
   "source": [
    "import os, shutil"
   ]
  },
  {
   "cell_type": "code",
   "execution_count": 27,
   "id": "68836f4c",
   "metadata": {},
   "outputs": [],
   "source": [
    "path = r'C:\\python\\python working with files\\PYTHON SORTER FOLDER\\\\'"
   ]
  },
  {
   "cell_type": "code",
   "execution_count": 28,
   "id": "5ef41d23",
   "metadata": {},
   "outputs": [
    {
     "data": {
      "text/plain": [
       "['CSV files', 'Image files', 'NewFile.tsv', 'Text files']"
      ]
     },
     "execution_count": 28,
     "metadata": {},
     "output_type": "execute_result"
    }
   ],
   "source": [
    "os.listdir(path)"
   ]
  },
  {
   "cell_type": "code",
   "execution_count": 29,
   "id": "fd0ce7a2",
   "metadata": {},
   "outputs": [],
   "source": [
    "## os.makedirs(path  + new_folder_name)"
   ]
  },
  {
   "cell_type": "code",
   "execution_count": 30,
   "id": "c1f9d678",
   "metadata": {},
   "outputs": [],
   "source": [
    "folder_name = ['CSV files', 'Text files', 'Image files']\n",
    "\n",
    "for folder in folder_name:\n",
    "    if not os.path.exists(path + folder):\n",
    "         os.makedirs(path  + folder)\n",
    "\n",
    "## this above loope way you can make folder dynamically rather than going each time to make a folder\n"
   ]
  },
  {
   "cell_type": "code",
   "execution_count": 31,
   "id": "cdb81013",
   "metadata": {},
   "outputs": [
    {
     "data": {
      "text/plain": [
       "['CSV files', 'Image files', 'NewFile.tsv', 'Text files']"
      ]
     },
     "execution_count": 31,
     "metadata": {},
     "output_type": "execute_result"
    }
   ],
   "source": [
    "os.listdir(path)"
   ]
  },
  {
   "cell_type": "code",
   "execution_count": 32,
   "id": "7a1e0573",
   "metadata": {},
   "outputs": [],
   "source": [
    "file_names = os.listdir(path)\n",
    "path = r'C:\\python\\python working with files\\PYTHON SORTER FOLDER\\\\'\n"
   ]
  },
  {
   "cell_type": "code",
   "execution_count": 33,
   "id": "887feb72",
   "metadata": {},
   "outputs": [],
   "source": [
    "for file in file_names:\n",
    "    if '.csv' in file and not os.path.exists(path + 'CSV files\\\\' + file):\n",
    "        shutil.move(path + file, path + 'CSV files\\\\' + file)\n",
    "    elif '.txt' in file and not os.path.exists(path + 'Text files\\\\' + file):\n",
    "        shutil.move(path + file, path + 'Text files\\\\' + file)\n",
    "    elif '.png' in file and not os.path.exists(path + 'Image files\\\\' + file):\n",
    "        shutil.move(path + file, path + 'Image files\\\\' + file)\n"
   ]
  },
  {
   "cell_type": "code",
   "execution_count": 34,
   "id": "9c4f8a60",
   "metadata": {},
   "outputs": [],
   "source": [
    "## Just for easy to read i will combine all above code into markdown"
   ]
  },
  {
   "cell_type": "markdown",
   "id": "2f31cec1",
   "metadata": {},
   "source": [
    "path = r'C:\\python\\python working with files\\PYTHON SORTER FOLDER\\\\'\n",
    "\n",
    "folder_name = ['CSV files', 'Text files', 'Image files']\n",
    "\n",
    "for folder in folder_name:\n",
    "    if not os.path.exists(path + folder):\n",
    "         os.makedirs(path  + folder)\n",
    "\n",
    "file_names = os.listdir(path)\n",
    "\n",
    "for file in file_names:\n",
    "    if '.csv' in file and not os.path.exists(path + 'CSV files\\\\' + file):\n",
    "        shutil.move(path + file, path + 'CSV files\\\\' + file)\n",
    "    elif '.txt' in file and not os.path.exists(path + 'Text files\\\\' + file):\n",
    "        shutil.move(path + file, path + 'Text files\\\\' + file)\n",
    "    elif '.png' in file and not os.path.exists(path + 'Image files\\\\' + file):\n",
    "        shutil.move(path + file, path + 'Image files\\\\' + file)\n",
    "\n"
   ]
  }
 ],
 "metadata": {
  "kernelspec": {
   "display_name": "Python 3",
   "language": "python",
   "name": "python3"
  },
  "language_info": {
   "codemirror_mode": {
    "name": "ipython",
    "version": 3
   },
   "file_extension": ".py",
   "mimetype": "text/x-python",
   "name": "python",
   "nbconvert_exporter": "python",
   "pygments_lexer": "ipython3",
   "version": "3.13.5"
  }
 },
 "nbformat": 4,
 "nbformat_minor": 5
}
